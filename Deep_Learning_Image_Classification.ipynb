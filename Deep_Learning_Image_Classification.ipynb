{
  "nbformat": 4,
  "nbformat_minor": 0,
  "metadata": {
    "colab": {
      "provenance": [],
      "include_colab_link": true
    },
    "kernelspec": {
      "name": "python3",
      "display_name": "Python 3"
    },
    "language_info": {
      "name": "python"
    }
  },
  "cells": [
    {
      "cell_type": "markdown",
      "metadata": {
        "id": "view-in-github",
        "colab_type": "text"
      },
      "source": [
        "<a href=\"https://colab.research.google.com/github/SaiGuru24/Deep-LearningImage-recognition-/blob/main/Deep_Learning_Image_Classification.ipynb\" target=\"_parent\"><img src=\"https://colab.research.google.com/assets/colab-badge.svg\" alt=\"Open In Colab\"/></a>"
      ]
    },
    {
      "cell_type": "code",
      "execution_count": 2,
      "metadata": {
        "colab": {
          "base_uri": "https://localhost:8080/"
        },
        "id": "_YIFwQHAdAFx",
        "outputId": "e2b8d724-1091-480f-933a-91c8d9ee79d1"
      },
      "outputs": [
        {
          "output_type": "stream",
          "name": "stdout",
          "text": [
            "Drive already mounted at /content/drive; to attempt to forcibly remount, call drive.mount(\"/content/drive\", force_remount=True).\n"
          ]
        }
      ],
      "source": [
        "from google.colab import drive\n",
        "drive.mount('/content/drive')\n",
        "\n",
        "import numpy as np\n",
        "import os\n",
        "import matplotlib.pyplot as plt\n",
        "import tensorflow as tf\n",
        "import PIL\n",
        "import pathlib\n",
        "\n",
        "\n",
        "from PIL import Image\n",
        "from pathlib import Path\n",
        "from tensorflow.keras import layers,models"
      ]
    },
    {
      "cell_type": "code",
      "source": [
        "# Update the path to the \"vehicle_photos\" folder in your Google Drive\n",
        "loaded_data = Path(\"/content/drive/My Drive/DL\")\n",
        "\n",
        "# Initialize a counter to keep track of the total number of images\n",
        "total_image_count = 0\n",
        "\n",
        "# Check if there are any subfolders (flower categories)\n",
        "vehicle_categories = list(loaded_data.glob('*'))\n",
        "if len(vehicle_categories) > 0:\n",
        "    for vehicle_category in vehicle_categories:\n",
        "        vehicle_images = list(vehicle_category.glob('*.jpg')) + list(vehicle_category.glob('*.png')) + list(vehicle_category.glob('*.jpeg'))\n",
        "        if len(vehicle_images) > 0:\n",
        "            total_image_count += len(vehicle_images)\n",
        "    print(f\"Total number of vehicle images found: {total_image_count}\")\n",
        "else:\n",
        "    print(\"No vehicle categories (subfolders) found in the directory.\")\n",
        "\n",
        "set_height, set_width = 180, 180\n",
        "batch_size=32"
      ],
      "metadata": {
        "colab": {
          "base_uri": "https://localhost:8080/"
        },
        "id": "JDW_BlBXt84b",
        "outputId": "3f3202f8-489f-4dc9-f799-27099188f14a"
      },
      "execution_count": 3,
      "outputs": [
        {
          "output_type": "stream",
          "name": "stdout",
          "text": [
            "Total number of vehicle images found: 1766\n"
          ]
        }
      ]
    },
    {
      "cell_type": "code",
      "source": [
        "#Training Setup\n",
        "training_images = tf.keras.preprocessing.image_dataset_from_directory(\n",
        "    loaded_data,\n",
        "    subset=\"training\",\n",
        "    validation_split = 0.25,\n",
        "    seed=18,\n",
        "    image_size=(set_height, set_width),\n",
        "    batch_size=batch_size\n",
        ")\n",
        "validation_images = tf.keras.preprocessing.image_dataset_from_directory(\n",
        "    loaded_data,\n",
        "    subset=\"validation\",  # Use \"validation\" for the validation subset\n",
        "    validation_split=0.25,  # Adjust this value as needed\n",
        "    seed=18,\n",
        "    image_size=(set_height, set_width),\n",
        "    batch_size=batch_size\n",
        ")\n",
        "vehicle_classes = training_images.class_names\n",
        "print(vehicle_classes)\n",
        "dataset_classes = 2\n",
        "from tensorflow.keras.models import Sequential\n",
        "model=Sequential([])"
      ],
      "metadata": {
        "colab": {
          "base_uri": "https://localhost:8080/"
        },
        "id": "B0mgOCcTt8rv",
        "outputId": "b0f58ca2-5b33-4cce-c670-e794b75730fb"
      },
      "execution_count": 4,
      "outputs": [
        {
          "output_type": "stream",
          "name": "stdout",
          "text": [
            "Found 1766 files belonging to 2 classes.\n",
            "Using 1325 files for training.\n",
            "Found 1766 files belonging to 2 classes.\n",
            "Using 441 files for validation.\n",
            "['Bikes', 'Cars']\n"
          ]
        }
      ]
    },
    {
      "cell_type": "code",
      "source": [
        "import matplotlib.pyplot as plt\n",
        "\n",
        "def create_cnn_model(dropout_rate):\n",
        "    model = Sequential([\n",
        "        layers.experimental.preprocessing.Rescaling(1./255, input_shape=(set_height, set_width, 3)),\n",
        "        layers.Conv2D(16, 3, padding='same', activation='relu'),\n",
        "        layers.MaxPooling2D(),\n",
        "        layers.Conv2D(32, 3, padding='same', activation='relu'),\n",
        "        layers.MaxPooling2D(),\n",
        "        layers.Conv2D(64, 3, padding='same', activation='relu'),\n",
        "        layers.MaxPooling2D(),\n",
        "        layers.Flatten(),\n",
        "        layers.Dense(128, activation='relu'),\n",
        "        layers.Dropout(dropout_rate),  # Add dropout layer with the specified rate\n",
        "        layers.Dense(dataset_classes, activation='softmax')\n",
        "    ])\n",
        "\n",
        "    model.compile(optimizer='adam',\n",
        "                  loss=tf.keras.losses.SparseCategoricalCrossentropy(from_logits=True),\n",
        "                  metrics=['accuracy'])\n",
        "\n",
        "    return model\n"
      ],
      "metadata": {
        "id": "qkULeiALt8fC"
      },
      "execution_count": 5,
      "outputs": []
    },
    {
      "cell_type": "code",
      "source": [
        "#Define a list of dropout rates to try\n",
        "dropout_rates = [0.0, 0.2, 0.4]\n",
        "epochs=10\n",
        "# Store training history for each model\n",
        "training_histories = []\n",
        "\n",
        "# Train models with different dropout rates\n",
        "for dropout_rate in dropout_rates:\n",
        "    print(f\"Training model with dropout rate: {dropout_rate}\")\n",
        "    model = create_cnn_model(dropout_rate)\n",
        "    history = model.fit(\n",
        "        training_images,\n",
        "        validation_data=validation_images,\n",
        "        epochs=epochs\n",
        "    )\n",
        "    training_histories.append((dropout_rate,history))"
      ],
      "metadata": {
        "colab": {
          "base_uri": "https://localhost:8080/"
        },
        "id": "NViQtcOD0XjU",
        "outputId": "8108a6a8-43da-48a5-97d5-00c8614d89de"
      },
      "execution_count": 6,
      "outputs": [
        {
          "metadata": {
            "tags": null
          },
          "name": "stdout",
          "output_type": "stream",
          "text": [
            "Training model with dropout rate: 0.0\n",
            "Epoch 1/10\n"
          ]
        },
        {
          "metadata": {
            "tags": null
          },
          "name": "stderr",
          "output_type": "stream",
          "text": [
            "/usr/local/lib/python3.10/dist-packages/keras/src/backend.py:5714: UserWarning: \"`sparse_categorical_crossentropy` received `from_logits=True`, but the `output` argument was produced by a Softmax activation and thus does not represent logits. Was this intended?\n",
            "  output, from_logits = _get_logits(\n"
          ]
        },
        {
          "output_type": "stream",
          "name": "stdout",
          "text": [
            "42/42 [==============================] - 54s 1s/step - loss: 0.5017 - accuracy: 0.7796 - val_loss: 0.2798 - val_accuracy: 0.8912\n",
            "Epoch 2/10\n",
            "42/42 [==============================] - 53s 1s/step - loss: 0.1606 - accuracy: 0.9426 - val_loss: 0.1459 - val_accuracy: 0.9410\n",
            "Epoch 3/10\n",
            "42/42 [==============================] - 56s 1s/step - loss: 0.0904 - accuracy: 0.9675 - val_loss: 0.1120 - val_accuracy: 0.9592\n",
            "Epoch 4/10\n",
            "42/42 [==============================] - 51s 1s/step - loss: 0.0651 - accuracy: 0.9774 - val_loss: 0.0704 - val_accuracy: 0.9773\n",
            "Epoch 5/10\n",
            "42/42 [==============================] - 56s 1s/step - loss: 0.0575 - accuracy: 0.9804 - val_loss: 0.0840 - val_accuracy: 0.9683\n",
            "Epoch 6/10\n",
            "42/42 [==============================] - 50s 1s/step - loss: 0.0270 - accuracy: 0.9925 - val_loss: 0.0693 - val_accuracy: 0.9773\n",
            "Epoch 7/10\n",
            "42/42 [==============================] - 50s 1s/step - loss: 0.0302 - accuracy: 0.9917 - val_loss: 0.0803 - val_accuracy: 0.9728\n",
            "Epoch 8/10\n",
            "42/42 [==============================] - 53s 1s/step - loss: 0.0323 - accuracy: 0.9887 - val_loss: 0.0877 - val_accuracy: 0.9751\n",
            "Epoch 9/10\n",
            "42/42 [==============================] - 51s 1s/step - loss: 0.0150 - accuracy: 0.9962 - val_loss: 0.0331 - val_accuracy: 0.9909\n",
            "Epoch 10/10\n",
            "42/42 [==============================] - 52s 1s/step - loss: 0.0051 - accuracy: 0.9992 - val_loss: 0.0410 - val_accuracy: 0.9887\n",
            "Training model with dropout rate: 0.2\n",
            "Epoch 1/10\n",
            "42/42 [==============================] - 58s 1s/step - loss: 0.5948 - accuracy: 0.7358 - val_loss: 0.2969 - val_accuracy: 0.8866\n",
            "Epoch 2/10\n",
            "42/42 [==============================] - 52s 1s/step - loss: 0.2415 - accuracy: 0.9155 - val_loss: 0.1822 - val_accuracy: 0.9320\n",
            "Epoch 3/10\n",
            "42/42 [==============================] - 50s 1s/step - loss: 0.1037 - accuracy: 0.9668 - val_loss: 0.1354 - val_accuracy: 0.9501\n",
            "Epoch 4/10\n",
            "42/42 [==============================] - 56s 1s/step - loss: 0.0511 - accuracy: 0.9842 - val_loss: 0.1945 - val_accuracy: 0.9274\n",
            "Epoch 5/10\n",
            "42/42 [==============================] - 50s 1s/step - loss: 0.0329 - accuracy: 0.9932 - val_loss: 0.1402 - val_accuracy: 0.9546\n",
            "Epoch 6/10\n",
            "42/42 [==============================] - 56s 1s/step - loss: 0.0083 - accuracy: 0.9985 - val_loss: 0.0659 - val_accuracy: 0.9751\n",
            "Epoch 7/10\n",
            "42/42 [==============================] - 50s 1s/step - loss: 0.0098 - accuracy: 0.9970 - val_loss: 0.0513 - val_accuracy: 0.9773\n",
            "Epoch 8/10\n",
            "42/42 [==============================] - 51s 1s/step - loss: 0.0156 - accuracy: 0.9932 - val_loss: 0.0597 - val_accuracy: 0.9841\n",
            "Epoch 9/10\n",
            "42/42 [==============================] - 51s 1s/step - loss: 0.0122 - accuracy: 0.9977 - val_loss: 0.1012 - val_accuracy: 0.9660\n",
            "Epoch 10/10\n",
            "42/42 [==============================] - 55s 1s/step - loss: 0.0028 - accuracy: 1.0000 - val_loss: 0.0560 - val_accuracy: 0.9796\n",
            "Training model with dropout rate: 0.4\n",
            "Epoch 1/10\n",
            "42/42 [==============================] - 55s 1s/step - loss: 0.5625 - accuracy: 0.7321 - val_loss: 0.3188 - val_accuracy: 0.8776\n",
            "Epoch 2/10\n",
            "42/42 [==============================] - 51s 1s/step - loss: 0.1834 - accuracy: 0.9351 - val_loss: 0.1239 - val_accuracy: 0.9478\n",
            "Epoch 3/10\n",
            "42/42 [==============================] - 55s 1s/step - loss: 0.0760 - accuracy: 0.9721 - val_loss: 0.1009 - val_accuracy: 0.9751\n",
            "Epoch 4/10\n",
            "42/42 [==============================] - 50s 1s/step - loss: 0.1208 - accuracy: 0.9577 - val_loss: 0.1004 - val_accuracy: 0.9705\n",
            "Epoch 5/10\n",
            "42/42 [==============================] - 50s 1s/step - loss: 0.0380 - accuracy: 0.9872 - val_loss: 0.0955 - val_accuracy: 0.9660\n",
            "Epoch 6/10\n",
            "42/42 [==============================] - 54s 1s/step - loss: 0.0171 - accuracy: 0.9947 - val_loss: 0.0589 - val_accuracy: 0.9819\n",
            "Epoch 7/10\n",
            "42/42 [==============================] - 49s 1s/step - loss: 0.0173 - accuracy: 0.9940 - val_loss: 0.0530 - val_accuracy: 0.9864\n",
            "Epoch 8/10\n",
            "42/42 [==============================] - 55s 1s/step - loss: 0.0337 - accuracy: 0.9872 - val_loss: 0.1178 - val_accuracy: 0.9615\n",
            "Epoch 9/10\n",
            "42/42 [==============================] - 55s 1s/step - loss: 0.0155 - accuracy: 0.9947 - val_loss: 0.0382 - val_accuracy: 0.9841\n",
            "Epoch 10/10\n",
            "42/42 [==============================] - 54s 1s/step - loss: 0.0290 - accuracy: 0.9925 - val_loss: 0.0843 - val_accuracy: 0.9683\n"
          ]
        }
      ]
    }
  ]
}